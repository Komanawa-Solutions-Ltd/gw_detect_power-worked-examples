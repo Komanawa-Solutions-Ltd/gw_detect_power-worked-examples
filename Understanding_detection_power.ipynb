{
 "cells": [
  {
   "cell_type": "markdown",
   "source": [
    "# Understanding detection power"
   ],
   "metadata": {
    "collapsed": false
   },
   "id": "a69d29c06c027b51"
  },
  {
   "cell_type": "markdown",
   "source": [
    "## What question are you asking (slope vs Counterfactual)\n"
   ],
   "metadata": {
    "collapsed": false
   },
   "id": "f8b678d4c50c2723"
  },
  {
   "cell_type": "markdown",
   "source": [
    "## Visualising Slope detection power"
   ],
   "metadata": {
    "collapsed": false
   },
   "id": "69b07418370d8735"
  },
  {
   "cell_type": "markdown",
   "source": [
    "## Visualising Counterfactual detection power"
   ],
   "metadata": {
    "collapsed": false
   },
   "id": "e5401addb571850d"
  }
 ],
 "metadata": {
  "kernelspec": {
   "display_name": "Python 3",
   "language": "python",
   "name": "python3"
  },
  "language_info": {
   "codemirror_mode": {
    "name": "ipython",
    "version": 2
   },
   "file_extension": ".py",
   "mimetype": "text/x-python",
   "name": "python",
   "nbconvert_exporter": "python",
   "pygments_lexer": "ipython2",
   "version": "2.7.6"
  }
 },
 "nbformat": 4,
 "nbformat_minor": 5
}
