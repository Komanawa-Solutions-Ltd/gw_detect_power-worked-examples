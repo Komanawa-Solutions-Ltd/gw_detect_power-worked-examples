{
 "cells": [
  {
   "cell_type": "markdown",
   "source": [
    "# Increasing Runtime Efficiency\n",
    "\n",
    "The detection power calculations can be slow, especially if you are running a large number of detection power simulations and using a computationally expensive detection method.  This notebook provides some tips on how to increase the runtime efficiency of the detection power calculations.\n",
    "\n",
    "Before we get too far let's import the required packages and generate some data to work with."
   ],
   "metadata": {
    "collapsed": false
   },
   "id": "7e2086014b2049b3"
  },
  {
   "cell_type": "code",
   "execution_count": 1,
   "id": "initial_id",
   "metadata": {
    "collapsed": true,
    "ExecuteTime": {
     "end_time": "2024-01-30T01:45:58.694339701Z",
     "start_time": "2024-01-30T01:45:58.018193935Z"
    }
   },
   "outputs": [],
   "source": [
    "import numpy as np\n",
    "from gw_detect_power import AutoDetectionPowerSlope, AutoDetectionPowerCounterFactual"
   ]
  },
  {
   "cell_type": "markdown",
   "source": [
    "## Testing run time (Slope)\n",
    "\n",
    "The classes have a method to test the run time of the detection power calculations. This can be useful to determine how long it will take to run a large number of simulations.  An example follows:"
   ],
   "metadata": {
    "collapsed": false
   },
   "id": "3994ba5f2e20ad9"
  },
  {
   "cell_type": "code",
   "outputs": [
    {
     "name": "stdout",
     "output_type": "stream",
     "text": [
      "time per iteration: 0.5575406551361084 s. based on 5 iterations\n",
      "with set number of iterations: 1000 it will take 9.292344252268473 s to run the power calc\n"
     ]
    }
   ],
   "source": [
    "dpc = AutoDetectionPowerSlope(\n",
    "    significance_mode='n-section-mann-kendall', nsims=1000,\n",
    "    expect_slope=[1, 0, -1], nparts=3, min_part_size=10, no_trend_alpha=0.50,\n",
    "    return_true_conc=True, return_noisy_conc_itters=3)\n",
    "\n",
    "dpc.time_test_power_calc_itter(\n",
    "    testnitter=5,  # only run 5 change detection iterations instead of 1000 as per dpc.nsims\n",
    "    # all the following are kwargs for the DetectionPowerCalculator.power_calc function\n",
    "    idv='true',\n",
    "    error=0.5,\n",
    "    mrt_model='binary_exponential_piston_flow',\n",
    "    samp_years=10,\n",
    "    samp_per_year=10,\n",
    "    implementation_time=5,\n",
    "    initial_conc=10,\n",
    "    target_conc=5,\n",
    "    prev_slope=1,\n",
    "    max_conc_lim=25,\n",
    "    min_conc_lim=1,\n",
    "    mrt=5,\n",
    "    #\n",
    "    mrt_p1=3,\n",
    "    frac_p1=0.7,\n",
    "    f_p1=0.7,\n",
    "    f_p2=0.7,\n",
    "    #\n",
    "    seed=558\n",
    ")"
   ],
   "metadata": {
    "collapsed": false,
    "ExecuteTime": {
     "end_time": "2024-01-30T01:46:01.443861683Z",
     "start_time": "2024-01-30T01:45:58.694267558Z"
    }
   },
   "id": "bdb36b09779d08a1",
   "execution_count": 2
  },
  {
   "cell_type": "markdown",
   "source": [
    "## Testing run time (Counterfactual)\n",
    "\n",
    "The same method is available for the counterfactual detection power calculations.  An example follows:"
   ],
   "metadata": {
    "collapsed": false
   },
   "id": "bbaef4c63f2773f2"
  },
  {
   "cell_type": "code",
   "outputs": [
    {
     "name": "stdout",
     "output_type": "stream",
     "text": [
      "time per iteration: 0.12633533477783204 s. based on 5 iterations\n",
      "with set number of iterations: 1000 it will take 2.1055889129638676 s to run the power calc\n"
     ]
    }
   ],
   "source": [
    "dpc_counter = AutoDetectionPowerCounterFactual(significance_mode='paired-t-test', nsims=1000,\n",
    "                                           p_value=0.05,\n",
    "                                           min_samples=10,\n",
    "                                           alternative='alt!=base')\n",
    "\n",
    "dpc_counter.time_test_power_calc_itter(\n",
    "    testnitter=5,  # only run 5 change detection iterations instead of 1000 as per dpc.nsims\n",
    "    # all the following are kwargs for the DetectionPowerCalculator.power_calc function\n",
    "    idv='true',\n",
    "    error_base=0.5,\n",
    "    mrt_model='binary_exponential_piston_flow',\n",
    "    samp_years=10,\n",
    "    samp_per_year=10,\n",
    "    implementation_time_alt=5,\n",
    "    initial_conc=10,\n",
    "    target_conc_alt=5,\n",
    "    prev_slope=1,\n",
    "    max_conc_lim=25,\n",
    "    min_conc_lim=1,\n",
    "    mrt=5,\n",
    "    #\n",
    "    mrt_p1=3,\n",
    "    frac_p1=0.7,\n",
    "    f_p1=0.7,\n",
    "    f_p2=0.7,\n",
    "    #\n",
    "    seed=558\n",
    ")"
   ],
   "metadata": {
    "collapsed": false,
    "ExecuteTime": {
     "end_time": "2024-01-30T01:46:02.079184257Z",
     "start_time": "2024-01-30T01:46:01.444366143Z"
    }
   },
   "id": "555030c7455e8df1",
   "execution_count": 3
  },
  {
   "cell_type": "markdown",
   "source": [
    "## Running in muliprocessing mode\n",
    "\n",
    "The classes are set up to quickly run multiple detection power estimates in parallel. Essentially you are expected to pre-process the inputs and then pass the runs. Most kwargs can be passed as either an array or as a single value  An example follows:"
   ],
   "metadata": {
    "collapsed": false
   },
   "id": "630531afabc78a0e"
  },
  {
   "cell_type": "code",
   "outputs": [
    {
     "name": "stdout",
     "output_type": "stream",
     "text": [
      "running 6 runs\n"
     ]
    },
    {
     "name": "stderr",
     "output_type": "stream",
     "text": [
      "[INFO/ForkPoolWorker-1] child process calling self.run()\n"
     ]
    },
    {
     "name": "stdout",
     "output_type": "stream",
     "text": [
      "Starting "
     ]
    },
    {
     "name": "stderr",
     "output_type": "stream",
     "text": [
      "[INFO/ForkPoolWorker-2] child process calling self.run()\n"
     ]
    },
    {
     "name": "stdout",
     "output_type": "stream",
     "text": [
      "ForkPoolWorker-1\n",
      "Starting ForkPoolWorker-2\n"
     ]
    },
    {
     "name": "stderr",
     "output_type": "stream",
     "text": [
      "[INFO/ForkPoolWorker-3] child process calling self.run()\n"
     ]
    },
    {
     "name": "stdout",
     "output_type": "stream",
     "text": [
      "Starting ForkPoolWorker-3\n"
     ]
    },
    {
     "name": "stderr",
     "output_type": "stream",
     "text": [
      "[INFO/ForkPoolWorker-3] process shutting down\n",
      "[INFO/ForkPoolWorker-2] process shutting down\n",
      "[INFO/ForkPoolWorker-1] process shutting down\n",
      "[INFO/ForkPoolWorker-2] process exiting with exitcode 0\n",
      "[INFO/ForkPoolWorker-3] process exiting with exitcode 0\n",
      "[INFO/ForkPoolWorker-1] process exiting with exitcode 0\n"
     ]
    }
   ],
   "source": [
    "dpc = AutoDetectionPowerSlope(\n",
    "    significance_mode='linear-regression', nsims=1000,\n",
    "    ncores=3  # set the number of cores to use\n",
    ")\n",
    "\n",
    "outdata = dpc.mulitprocess_power_calcs(outpath=None,  # can be saved to a .hdf file if desired\n",
    "                                       idv_vals=np.array([f'run_{i}' for i in range(6)]),\n",
    "                                       error_vals=0.5,\n",
    "                                       samp_years_vals=np.array([5, 5, 5, 10, 10, 10]),\n",
    "                                       samp_per_year_vals=np.array([1, 4, 12, 1, 4, 12]),\n",
    "                                       implementation_time_vals=5,\n",
    "                                       initial_conc_vals=10,\n",
    "                                       target_conc_vals=7,\n",
    "                                       prev_slope_vals=0,\n",
    "                                       max_conc_lim_vals=20,\n",
    "                                       min_conc_lim_vals=1,\n",
    "                                       mrt_model_vals='piston_flow',\n",
    "                                       mrt_vals=0,\n",
    "                                       seed_vals=535,\n",
    "                                       )"
   ],
   "metadata": {
    "collapsed": false,
    "ExecuteTime": {
     "end_time": "2024-01-30T01:46:02.330533116Z",
     "start_time": "2024-01-30T01:46:02.078996787Z"
    }
   },
   "id": "e9f886d51d3289ee",
   "execution_count": 4
  },
  {
   "cell_type": "markdown",
   "source": [
    "When running in multiprocessing mode, any errors will be passed by the traceback will be saved to a \"python_error\" column. This column will be None if there is no error.  This can be used to identify any errors that have occurred.  An example follows:"
   ],
   "metadata": {
    "collapsed": false
   },
   "id": "9ca19aaecb59f918"
  },
  {
   "cell_type": "code",
   "outputs": [
    {
     "name": "stdout",
     "output_type": "stream",
     "text": [
      "1 errors\n",
      "Errors:\n",
      "\n",
      "run_0 Traceback (most recent call last):\n",
      "  File \"/home/matt_dumont/miniconda3/envs/gw_detect_ex/lib/python3.11/site-packages/gw_detect_power/base_detection_calculator.py\", line 481, in _power_calc_mp\n",
      "    out = self.power_calc(**kwargs)\n",
      "          ^^^^^^^^^^^^^^^^^^^^^^^^^\n",
      "  File \"/home/matt_dumont/miniconda3/envs/gw_detect_ex/lib/python3.11/site-packages/gw_detect_power/change_detection_v2.py\", line 942, in power_calc\n",
      "    out_data = self._run_power_calc(testnitter=testnitter,\n",
      "               ^^^^^^^^^^^^^^^^^^^^^^^^^^^^^^^^^^^^^^^^^^^\n",
      "  File \"/home/matt_dumont/miniconda3/envs/gw_detect_ex/lib/python3.11/site-packages/gw_detect_power/change_detection_v2.py\", line 549, in _run_power_calc\n",
      "    raise ValueError(f'nsamples must be greater than {self.min_samples}, you can change the '\n",
      "ValueError: nsamples must be greater than 10, you can change the minimum number of samples in the DetectionPowerCalculator class init\n"
     ]
    }
   ],
   "source": [
    "print(outdata['python_error'].notna().sum(), 'errors')\n",
    "print('Errors:\\n')\n",
    "for idv, error in zip(outdata.index[~outdata['python_error'].isna()],\n",
    "                      outdata['python_error'][~outdata['python_error'].isna()]):\n",
    "    print(idv, error)"
   ],
   "metadata": {
    "collapsed": false,
    "ExecuteTime": {
     "end_time": "2024-01-30T01:46:02.331043111Z",
     "start_time": "2024-01-30T01:46:02.330274163Z"
    }
   },
   "id": "69311d9d875773b6",
   "execution_count": 5
  },
  {
   "cell_type": "markdown",
   "source": [
    "## Efficient mode (Slope only)\n",
    "\n",
    "Efficient mode is only available in the slope detection power calculations. If implemented the detection power test will be run on the True timeseries data. If the true data does not meet the test (e.g. no reduction) then a power of zero is returned.  Efficient mode can be set by:"
   ],
   "metadata": {
    "collapsed": false
   },
   "id": "da7c4e08f3b2be50"
  },
  {
   "cell_type": "code",
   "outputs": [],
   "source": [
    "dpc = AutoDetectionPowerSlope(\n",
    "    significance_mode='linear-regression', nsims=1000,\n",
    "    ncores=3, efficent_mode=True\n",
    ")"
   ],
   "metadata": {
    "collapsed": false,
    "ExecuteTime": {
     "end_time": "2024-01-30T01:46:02.331232528Z",
     "start_time": "2024-01-30T01:46:02.330379654Z"
    }
   },
   "id": "be0398361e798d6d",
   "execution_count": 6
  },
  {
   "cell_type": "markdown",
   "source": [
    "\n",
    "In addition, there are a number of options to speed up multipart Mann Kendall tests including only evaluating a window, and checking for breakpoints at fewer points (e.g. every other point).  See the documentation for more details.\n",
    "\n",
    "### Condensed mode\n",
    "\n",
    "Condensed mode is available in multiprocessing for either of the autodetection classes.  This takes advantage of the fact that the detection power calculations are often run on similar data and for all intents and purposes an error term of 0.5 mg/l is essentially the same as an error term of 0.52 mg/l. When setting condensed mode the user sets the precision for all of the important float values.  The detection power calculations are run once for each set of rounded inputs and then the results are propagated to each input value.  To set condensed mode, run the following BEFORE running the multiprocessing power calculations:"
   ],
   "metadata": {
    "collapsed": false
   },
   "id": "a1c9a968347910ee"
  },
  {
   "cell_type": "code",
   "outputs": [],
   "source": [
    "dpc = AutoDetectionPowerSlope(\n",
    "    significance_mode='linear-regression', nsims=1000,\n",
    "    ncores=3)\n",
    "\n",
    "dpc.set_condensed_mode(\n",
    "    target_conc_per=1,  # round the target_conc to 1 decimal place\n",
    "    initial_conc_per=1,\n",
    "    error_per=2,  # round the error to 2 decimal places, etc.\n",
    "    prev_slope_per=2,\n",
    "    max_conc_lim_per=1,\n",
    "    min_conc_lim_per=1,\n",
    "    mrt_per=0,\n",
    "    mrt_p1_per=2,\n",
    "    frac_p1_per=2,\n",
    "    f_p1_per=2,\n",
    "    f_p2_per=2)"
   ],
   "metadata": {
    "collapsed": false,
    "ExecuteTime": {
     "end_time": "2024-01-30T01:46:02.331480273Z",
     "start_time": "2024-01-30T01:46:02.330415811Z"
    }
   },
   "id": "fe16a3180416b6c",
   "execution_count": 7
  },
  {
   "cell_type": "markdown",
   "source": [
    "## Preprocessing the input data\n",
    "\n",
    "If you are working through a large number of simulations then it can be worth preprocessing the input data, saving it to an external file (e.g. an .hdf file) and then reading from that file, so that you can quickly re-run the scenarios if you have made a mistake in your code."
   ],
   "metadata": {
    "collapsed": false
   },
   "id": "25c42a77b0825baf"
  }
 ],
 "metadata": {
  "kernelspec": {
   "display_name": "Python 3",
   "language": "python",
   "name": "python3"
  },
  "language_info": {
   "codemirror_mode": {
    "name": "ipython",
    "version": 2
   },
   "file_extension": ".py",
   "mimetype": "text/x-python",
   "name": "python",
   "nbconvert_exporter": "python",
   "pygments_lexer": "ipython2",
   "version": "2.7.6"
  }
 },
 "nbformat": 4,
 "nbformat_minor": 5
}
