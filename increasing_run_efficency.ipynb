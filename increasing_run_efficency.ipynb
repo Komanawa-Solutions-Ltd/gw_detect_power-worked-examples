{
 "cells": [
  {
   "cell_type": "markdown",
   "source": [
    "# Increasing Runtime Efficiency"
   ],
   "metadata": {
    "collapsed": false
   },
   "id": "7e2086014b2049b3"
  },
  {
   "cell_type": "code",
   "execution_count": null,
   "id": "initial_id",
   "metadata": {
    "collapsed": true
   },
   "outputs": [],
   "source": []
  },
  {
   "cell_type": "markdown",
   "source": [
    "## Testing run time (Slope)\n"
   ],
   "metadata": {
    "collapsed": false
   },
   "id": "3994ba5f2e20ad9"
  },
  {
   "cell_type": "markdown",
   "source": [
    "## Testing run time (Counterfactual)"
   ],
   "metadata": {
    "collapsed": false
   },
   "id": "bbaef4c63f2773f2"
  },
  {
   "cell_type": "markdown",
   "source": [
    "## Running in muliprocessing mode"
   ],
   "metadata": {
    "collapsed": false
   },
   "id": "630531afabc78a0e"
  }
 ],
 "metadata": {
  "kernelspec": {
   "display_name": "Python 3",
   "language": "python",
   "name": "python3"
  },
  "language_info": {
   "codemirror_mode": {
    "name": "ipython",
    "version": 2
   },
   "file_extension": ".py",
   "mimetype": "text/x-python",
   "name": "python",
   "nbconvert_exporter": "python",
   "pygments_lexer": "ipython2",
   "version": "2.7.6"
  }
 },
 "nbformat": 4,
 "nbformat_minor": 5
}
