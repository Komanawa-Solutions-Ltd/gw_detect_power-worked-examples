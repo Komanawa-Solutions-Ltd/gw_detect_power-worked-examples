{
 "cells": [
  {
   "cell_type": "markdown",
   "source": [
    "# Selwyn Well I36_0477 Worked example\n",
    "\n",
    "Before we get too far, lets import the necessary libraries and set up the the notebook"
   ],
   "metadata": {
    "collapsed": false
   },
   "id": "9812d2c9cb36024"
  },
  {
   "cell_type": "code",
   "execution_count": null,
   "id": "initial_id",
   "metadata": {
    "collapsed": true
   },
   "outputs": [],
   "source": []
  },
  {
   "cell_type": "markdown",
   "source": [
    "## Background\n",
    "\n",
    "## Step 1 assess the historical data\n",
    "\n",
    "### Look and remove any outliers "
   ],
   "metadata": {
    "collapsed": false
   },
   "id": "7b70dea949d28394"
  },
  {
   "cell_type": "code",
   "outputs": [],
   "source": [],
   "metadata": {
    "collapsed": false
   },
   "id": "cee2c0181eb6659b"
  },
  {
   "cell_type": "markdown",
   "source": [
    "### Identify any historical trend"
   ],
   "metadata": {
    "collapsed": false
   },
   "id": "5e715029f70e0848"
  },
  {
   "cell_type": "markdown",
   "source": [
    "## Step 2: estimate the noise level"
   ],
   "metadata": {
    "collapsed": false
   },
   "id": "477c45aaa3c7228f"
  },
  {
   "cell_type": "code",
   "outputs": [],
   "source": [],
   "metadata": {
    "collapsed": false
   },
   "id": "7a6dca2da8b6387b"
  },
  {
   "cell_type": "markdown",
   "source": [
    "## Step 3: Estimate the likely historical source concentration"
   ],
   "metadata": {
    "collapsed": false
   },
   "id": "aee6609d872ce5a9"
  },
  {
   "cell_type": "code",
   "outputs": [],
   "source": [],
   "metadata": {
    "collapsed": false
   },
   "id": "903b6215218beaa4"
  },
  {
   "cell_type": "markdown",
   "source": [
    "## Step 4: Generate the future scenarios\n"
   ],
   "metadata": {
    "collapsed": false
   },
   "id": "5dcd5d9d6a3ca63f"
  },
  {
   "cell_type": "markdown",
   "source": [
    "### Create the true receptor time series\n",
    "\n"
   ],
   "metadata": {
    "collapsed": false
   },
   "id": "6ef3f99171591527"
  },
  {
   "cell_type": "markdown",
   "source": [
    "\n",
    "## Step 5: Estimate the detection power of the monitoring network\n"
   ],
   "metadata": {
    "collapsed": false
   },
   "id": "b45bf8a12269c587"
  },
  {
   "cell_type": "markdown",
   "source": [
    "### Problems with Slope detection power\n"
   ],
   "metadata": {
    "collapsed": false
   },
   "id": "e34412c9e14ebf39"
  },
  {
   "cell_type": "markdown",
   "source": [
    "### Run Change detection power instead"
   ],
   "metadata": {
    "collapsed": false
   },
   "id": "4570a03018b67fc3"
  }
 ],
 "metadata": {
  "kernelspec": {
   "display_name": "Python 3",
   "language": "python",
   "name": "python3"
  },
  "language_info": {
   "codemirror_mode": {
    "name": "ipython",
    "version": 2
   },
   "file_extension": ".py",
   "mimetype": "text/x-python",
   "name": "python",
   "nbconvert_exporter": "python",
   "pygments_lexer": "ipython2",
   "version": "2.7.6"
  }
 },
 "nbformat": 4,
 "nbformat_minor": 5
}
