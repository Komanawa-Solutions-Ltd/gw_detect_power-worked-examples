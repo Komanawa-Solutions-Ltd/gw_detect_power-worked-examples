{
 "cells": [
  {
   "cell_type": "markdown",
   "source": [
    "# Slope detection Power\n",
    "\n",
    "Slope detection power answers the question \"What is the likelihood that we can detect a slope (for instance a reduction) in our future data given sampling frequencies?\"\n",
    "\n",
    "First we need to import some necessary libraries"
   ],
   "metadata": {
    "collapsed": false
   },
   "id": "7cdbff6cf67c6b0d"
  },
  {
   "cell_type": "code",
   "outputs": [],
   "source": [],
   "metadata": {
    "collapsed": false
   },
   "id": "f3577aad1da105bc"
  },
  {
   "cell_type": "markdown",
   "source": [
    "# Running Simple Slope Detection Power"
   ],
   "metadata": {
    "collapsed": false
   },
   "id": "293ab91859755fc6"
  },
  {
   "cell_type": "markdown",
   "source": [
    "## Generate monotonic decreasing time series\n",
    "\n",
    "We will generate two monotonically decreasing \"True Concentration Time Series\""
   ],
   "metadata": {
    "collapsed": false
   },
   "id": "d0c78376517345b4"
  },
  {
   "cell_type": "code",
   "outputs": [],
   "source": [],
   "metadata": {
    "collapsed": false
   },
   "id": "259356ec004aed82"
  },
  {
   "cell_type": "markdown",
   "source": [
    "## Running Linear regression detection power"
   ],
   "metadata": {
    "collapsed": false
   },
   "id": "3dd30d4aa37e7dd5"
  },
  {
   "cell_type": "code",
   "execution_count": null,
   "id": "initial_id",
   "metadata": {
    "collapsed": true,
    "is_executing": true
   },
   "outputs": [],
   "source": [
    "import numpy as np\n",
    "import matplotlib.pyplot as plt\n",
    "\n",
    "print(np.__version__)"
   ]
  },
  {
   "cell_type": "markdown",
   "source": [
    "## Running Mann Kendall detection power"
   ],
   "metadata": {
    "collapsed": false
   },
   "id": "7252ef8aa197765e"
  },
  {
   "cell_type": "code",
   "outputs": [],
   "source": [],
   "metadata": {
    "collapsed": false
   },
   "id": "e96d6a5b1826a0f2"
  },
  {
   "cell_type": "markdown",
   "source": [
    "# Running Complex detection power\n",
    "\n",
    "## Generating a complex time series"
   ],
   "metadata": {
    "collapsed": false
   },
   "id": "51f74c83de7b95fb"
  },
  {
   "cell_type": "code",
   "outputs": [],
   "source": [],
   "metadata": {
    "collapsed": false
   },
   "id": "502e823a908f884f"
  },
  {
   "cell_type": "markdown",
   "source": [
    "## The problem with monotonic tests"
   ],
   "metadata": {
    "collapsed": false
   },
   "id": "81b6896eec19fe62"
  },
  {
   "cell_type": "code",
   "outputs": [],
   "source": [],
   "metadata": {
    "collapsed": false
   },
   "id": "4c2d227e34a418cb"
  },
  {
   "cell_type": "markdown",
   "source": [
    "## the \"From Max\" solution"
   ],
   "metadata": {
    "collapsed": false
   },
   "id": "37d52a051f088449"
  },
  {
   "cell_type": "code",
   "outputs": [],
   "source": [],
   "metadata": {
    "collapsed": false
   },
   "id": "9276940f87a558a1"
  },
  {
   "cell_type": "markdown",
   "source": [
    "## The Multi-part Mann Kendall Solution"
   ],
   "metadata": {
    "collapsed": false
   },
   "id": "fe7619a8bb471dfd"
  },
  {
   "cell_type": "code",
   "outputs": [],
   "source": [],
   "metadata": {
    "collapsed": false
   },
   "id": "ebcc14232e595726"
  },
  {
   "cell_type": "markdown",
   "source": [
    "## Auto Detection power mode"
   ],
   "metadata": {
    "collapsed": false
   },
   "id": "45a68ba2cb2afd0"
  }
 ],
 "metadata": {
  "kernelspec": {
   "display_name": "Python 3",
   "language": "python",
   "name": "python3"
  },
  "language_info": {
   "codemirror_mode": {
    "name": "ipython",
    "version": 2
   },
   "file_extension": ".py",
   "mimetype": "text/x-python",
   "name": "python",
   "nbconvert_exporter": "python",
   "pygments_lexer": "ipython2",
   "version": "2.7.6"
  }
 },
 "nbformat": 4,
 "nbformat_minor": 5
}
