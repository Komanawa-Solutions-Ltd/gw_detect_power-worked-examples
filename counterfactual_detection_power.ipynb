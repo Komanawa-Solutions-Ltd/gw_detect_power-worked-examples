{
 "cells": [
  {
   "cell_type": "markdown",
   "source": [
    "# CounterFactual detection Power"
   ],
   "metadata": {
    "collapsed": false
   },
   "id": "d2f782f2a1a5ea7a"
  },
  {
   "cell_type": "code",
   "execution_count": null,
   "id": "initial_id",
   "metadata": {
    "collapsed": true
   },
   "outputs": [],
   "source": []
  },
  {
   "cell_type": "markdown",
   "source": [
    "## Paired t-test"
   ],
   "metadata": {
    "collapsed": false
   },
   "id": "c0f4bfa144575439"
  },
  {
   "cell_type": "markdown",
   "source": [
    "## Wilcoxon signed-rank test"
   ],
   "metadata": {
    "collapsed": false
   },
   "id": "a6b09d37119d8abe"
  },
  {
   "cell_type": "code",
   "outputs": [],
   "source": [],
   "metadata": {
    "collapsed": false
   },
   "id": "5cf3da04d4f27c51"
  },
  {
   "cell_type": "markdown",
   "source": [
    "## Auto Detection power mode"
   ],
   "metadata": {
    "collapsed": false
   },
   "id": "c8e6e3c4b42e43c5"
  }
 ],
 "metadata": {
  "kernelspec": {
   "display_name": "Python 3",
   "language": "python",
   "name": "python3"
  },
  "language_info": {
   "codemirror_mode": {
    "name": "ipython",
    "version": 2
   },
   "file_extension": ".py",
   "mimetype": "text/x-python",
   "name": "python",
   "nbconvert_exporter": "python",
   "pygments_lexer": "ipython2",
   "version": "2.7.6"
  }
 },
 "nbformat": 4,
 "nbformat_minor": 5
}
