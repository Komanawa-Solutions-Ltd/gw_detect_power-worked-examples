{
 "cells": [
  {
   "cell_type": "markdown",
   "source": [
    "# Whakauru Steam Worked Example\n",
    "\n",
    "Before we get too far, lets import the necessary libraries and set up the notebook."
   ],
   "metadata": {
    "collapsed": false
   },
   "id": "440ad157a59e77ad"
  },
  {
   "cell_type": "code",
   "outputs": [],
   "source": [],
   "metadata": {
    "collapsed": false
   },
   "id": "c3982cd79b6ca06a"
  },
  {
   "cell_type": "markdown",
   "source": [
    "\n",
    "## Background and site description\n",
    "\n",
    "## Step 1: Assess the historical data\n",
    "\n",
    "### Look for and possibly remove outliers "
   ],
   "metadata": {
    "collapsed": false
   },
   "id": "19808052dd9cbb0a"
  },
  {
   "cell_type": "code",
   "outputs": [],
   "source": [],
   "metadata": {
    "collapsed": false
   },
   "id": "de92b9cca7f6ddb9"
  },
  {
   "cell_type": "markdown",
   "source": [
    "### Identify historical trend"
   ],
   "metadata": {
    "collapsed": false
   },
   "id": "c759c21f1c80aaed"
  },
  {
   "cell_type": "code",
   "outputs": [],
   "source": [],
   "metadata": {
    "collapsed": false
   },
   "id": "528b164f332f35ee"
  },
  {
   "cell_type": "markdown",
   "source": [
    "##  Step 2: Estimate the noise level"
   ],
   "metadata": {
    "collapsed": false
   },
   "id": "89b7d4347f8d7c0a"
  },
  {
   "cell_type": "code",
   "execution_count": null,
   "id": "initial_id",
   "metadata": {
    "collapsed": true
   },
   "outputs": [],
   "source": []
  },
  {
   "cell_type": "markdown",
   "source": [
    "## Step 3: Estimate the likely historical source concentration\n"
   ],
   "metadata": {
    "collapsed": false
   },
   "id": "68fbab549dbc3f25"
  },
  {
   "cell_type": "code",
   "outputs": [],
   "source": [],
   "metadata": {
    "collapsed": false
   },
   "id": "4a9555d99ffb112a"
  },
  {
   "cell_type": "markdown",
   "source": [
    "## Step 4: Generate the future scenarios"
   ],
   "metadata": {
    "collapsed": false
   },
   "id": "58617f67f9cf78e8"
  },
  {
   "cell_type": "code",
   "outputs": [],
   "source": [],
   "metadata": {
    "collapsed": false
   },
   "id": "b6bdeb0d5cf50f76"
  },
  {
   "cell_type": "markdown",
   "source": [
    "### Create the true receptor time series\n"
   ],
   "metadata": {
    "collapsed": false
   },
   "id": "e7f4aa9869ae6908"
  },
  {
   "cell_type": "code",
   "outputs": [],
   "source": [],
   "metadata": {
    "collapsed": false
   },
   "id": "df1e133b15763db7"
  },
  {
   "cell_type": "markdown",
   "source": [
    "## Step 5: Estimate the detection power of the monitoring network"
   ],
   "metadata": {
    "collapsed": false
   },
   "id": "9c81a90828470eaa"
  },
  {
   "cell_type": "code",
   "outputs": [],
   "source": [],
   "metadata": {
    "collapsed": false
   },
   "id": "68b38fa910cd3794"
  },
  {
   "cell_type": "markdown",
   "source": [
    "## Running Steps 3-5 using the AutoDetection Power"
   ],
   "metadata": {
    "collapsed": false
   },
   "id": "b4d5b488f3d063b7"
  },
  {
   "cell_type": "code",
   "outputs": [],
   "source": [],
   "metadata": {
    "collapsed": false
   },
   "id": "b3f48cd0e0ad4ff2"
  }
 ],
 "metadata": {
  "kernelspec": {
   "display_name": "Python 3",
   "language": "python",
   "name": "python3"
  },
  "language_info": {
   "codemirror_mode": {
    "name": "ipython",
    "version": 2
   },
   "file_extension": ".py",
   "mimetype": "text/x-python",
   "name": "python",
   "nbconvert_exporter": "python",
   "pygments_lexer": "ipython2",
   "version": "2.7.6"
  }
 },
 "nbformat": 4,
 "nbformat_minor": 5
}
